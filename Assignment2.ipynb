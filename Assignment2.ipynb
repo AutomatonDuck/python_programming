{
  "nbformat": 4,
  "nbformat_minor": 0,
  "metadata": {
    "colab": {
      "name": "Assignment2.ipynb",
      "provenance": [],
      "collapsed_sections": [],
      "authorship_tag": "ABX9TyP9UKCmLFvTmrX9OyjJFh3Z",
      "include_colab_link": true
    },
    "kernelspec": {
      "name": "python3",
      "display_name": "Python 3"
    }
  },
  "cells": [
    {
      "cell_type": "markdown",
      "metadata": {
        "id": "view-in-github",
        "colab_type": "text"
      },
      "source": [
        "<a href=\"https://colab.research.google.com/github/AutomatonDuck/python_programming/blob/main/Assignment2.ipynb\" target=\"_parent\"><img src=\"https://colab.research.google.com/assets/colab-badge.svg\" alt=\"Open In Colab\"/></a>"
      ]
    },
    {
      "cell_type": "code",
      "metadata": {
        "colab": {
          "base_uri": "https://localhost:8080/",
          "height": 547
        },
        "id": "Po7ZwV35Y0FJ",
        "outputId": "b4e73d77-6d9c-4ff6-8c96-ecf4f3872c4d"
      },
      "source": [
        "from keras.datasets import mnist\r\n",
        "from matplotlib import pyplot as plt\r\n",
        "import numpy as np\r\n",
        "\r\n",
        "(x_train, y_train), (x_test, y_test) = mnist.load_data()\r\n",
        "\r\n",
        "filtered =  (y_train == 0) | (y_train == 1)\r\n",
        "x_train = x_train[filtered]\r\n",
        "y_train = y_train[filtered]\r\n",
        "\r\n",
        "#print(x_train.shape, x_test.shape) #checking shape of data\r\n",
        "#x_train_1 = x_train[y_train == 1, :, :] # load 1s form data\r\n",
        "#x_train_0 = x_train[y_train == 0, :, :] # load 0s from data\r\n",
        "\r\n",
        "#print(x_train_1.shape, x_train_0.shape) # shape test\r\n",
        "plt.figure()\r\n",
        "plt.imshow(x_train[20],cmap = 'gray')\r\n",
        "plt.show() #plots dont show up during runtime without this\r\n",
        "plt.imshow(x_train[2],cmap = 'gray')\r\n",
        "plt.show()\r\n",
        "\r\n",
        "################Data Splitting############################\r\n",
        "num_train = x_train.shape[0]\r\n",
        "x_sub = x_train[0:int(0.5*num_train),:,:]\r\n",
        "y_sun = y_train[0:int(0.5*num_train)]\r\n",
        "\r\n",
        "x_train = x_train[int(0.5*num_train):,:,:]\r\n",
        "y_train = y_train[int(0.5*num_train):]\r\n",
        "#print(x_sub.shape, x_train.shape)\r\n",
        "#########################################################\r\n",
        "\r\n",
        "y_axis = (x_train[0,13:16,13:16]) ###Selecting center 3x3 grid\r\n",
        "avg = np.mean(y_axis) # conversion to an attribute\r\n",
        "#print(avg)\r\n",
        "\r\n",
        "index = np.random.choice(x_train.shape[0], 500, replace=False) ## chooses 500 random indexes\r\n",
        "val_x = x_train[index]\r\n",
        "val_y = y_train[index]\r\n",
        "\r\n",
        "\r\n",
        "#print(x_train.shape, x_val.shape)\r\n",
        "\r\n"
      ],
      "execution_count": 38,
      "outputs": [
        {
          "output_type": "display_data",
          "data": {
            "image/png": "[encoded data removed]",
            "text/plain": [
              "<Figure size 432x288 with 1 Axes>"
            ]
          },
          "metadata": {
            "tags": [],
            "needs_background": "light"
          }
        },
        {
          "output_type": "display_data",
          "data": {
            "image/png": "[encoded data removed]",
            "text/plain": [
              "<Figure size 432x288 with 1 Axes>"
            ]
          },
          "metadata": {
            "tags": [],
            "needs_background": "light"
          }
        },
        {
          "output_type": "stream",
          "text": [
            "(6332, 28, 28) (6333, 28, 28)\n",
            "(6333, 28, 28) (500, 28, 28)\n"
          ],
          "name": "stdout"
        }
      ]
    }
  ]
}