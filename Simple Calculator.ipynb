{
  "nbformat": 4,
  "nbformat_minor": 0,
  "metadata": {
    "colab": {
      "name": "Assignment 1.ipynb",
      "provenance": [],
      "collapsed_sections": [],
      "authorship_tag": "ABX9TyNGOQrUn9TienSDMr/u30mZ",
      "include_colab_link": true
    },
    "kernelspec": {
      "name": "python3",
      "display_name": "Python 3"
    }
  },
  "cells": [
    {
      "cell_type": "markdown",
      "metadata": {
        "id": "view-in-github",
        "colab_type": "text"
      },
      "source": [
        "<a href=\"https://colab.research.google.com/github/AutomatonDuck/python_programming/blob/main/Simple%20Calculator.ipynb\" target=\"_parent\"><img src=\"https://colab.research.google.com/assets/colab-badge.svg\" alt=\"Open In Colab\"/></a>"
      ]
    },
    {
      "cell_type": "markdown",
      "metadata": {
        "id": "RlExfg85fQTr"
      },
      "source": [
        "#Assignment 1"
      ]
    },
    {
      "cell_type": "markdown",
      "metadata": {
        "id": "ouqy7p1RfXx-"
      },
      "source": [
        "### 1 Calculator"
      ]
    },
    {
      "cell_type": "code",
      "metadata": {
        "colab": {
          "base_uri": "https://localhost:8080/"
        },
        "id": "tXffLO70fDNS",
        "outputId": "00275f17-70d7-41b4-c0ea-04c6751658cf"
      },
      "source": [
        "#To-Do\r\n",
        "#comments\r\n",
        "#add functons\r\n",
        "#fix loop?\r\n",
        "#switch function\r\n",
        "\r\n",
        "def summation(number_1):\r\n",
        "  number_2 = input(\"Please enter a second number: \")\r\n",
        "  summ = float(number_1) + float(number_2)\r\n",
        "  print(summ)\r\n",
        "\r\n",
        "def subtraction(number_1):\r\n",
        "  number_2 = input(\"Please enter a second number: \")\r\n",
        "  sub = float(number_1) - float(number_2)\r\n",
        "  print(sub)\r\n",
        "\r\n",
        "def multiplication(number_1):\r\n",
        "  number_2 = input(\"Please enter a second number: \")\r\n",
        "  factor = float(number_1) * float(number_2)\r\n",
        "  print(factor)\r\n",
        "\r\n",
        "def divison(number_1):\r\n",
        "  number_2 = input(\"Please enter a second number: \")\r\n",
        "  quotient = float(number_1) / float(number_2)\r\n",
        "  print(quotient)\r\n",
        "\r\n",
        "def modulus(number_1):\r\n",
        "  number_2 = input(\"Please enter a second number: \")\r\n",
        "  mod = float(number_1) % float(number_2)\r\n",
        "  print(mod)\r\n",
        "\r\n",
        "def exponential(number_1):\r\n",
        "  number_2 = input(\"Please enter a second number: \")\r\n",
        "  exp = float(number_1) ** float(number_2)\r\n",
        "  print(exp)\r\n",
        "  \r\n",
        "  \r\n",
        "\r\n",
        "print(\"This is a simple calculator program\")\r\n",
        "number_1 = 0\r\n",
        "while number_1 != 'x': # change to do while loop is possible or maybe not\r\n",
        "  \r\n",
        "  number_1 = input(\"Please Enter a number: \")\r\n",
        "  if number_1 == 'x':\r\n",
        "    break\r\n",
        "  summation(number_1)\r\n",
        "  subtraction(number_1)\r\n",
        "  "
      ],
      "execution_count": 31,
      "outputs": [
        {
          "output_type": "stream",
          "text": [
            "This is a simple calculator program\n",
            "Please Enter a number: 5.5\n",
            "Please enter a second number: 5.5\n",
            "11.0\n",
            "Please enter a second number: 5.5\n",
            "0.0\n",
            "Please Enter a number: 5.5\n",
            "Please enter a second number: 5.5\n",
            "11.0\n",
            "Please enter a second number: 5.5\n",
            "0.0\n",
            "Please Enter a number: x\n"
          ],
          "name": "stdout"
        }
      ]
    }
  ]
}