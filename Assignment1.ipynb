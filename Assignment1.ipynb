{
  "nbformat": 4,
  "nbformat_minor": 0,
  "metadata": {
    "colab": {
      "name": "Assignment1.ipynb",
      "provenance": [],
      "collapsed_sections": [],
      "authorship_tag": "ABX9TyM4fthicjpFBsXgjvYOLTyw",
      "include_colab_link": true
    },
    "kernelspec": {
      "name": "python3",
      "display_name": "Python 3"
    }
  },
  "cells": [
    {
      "cell_type": "markdown",
      "metadata": {
        "id": "view-in-github",
        "colab_type": "text"
      },
      "source": [
        "<a href=\"https://colab.research.google.com/github/AutomatonDuck/python_programming/blob/main/Assignment1.ipynb\" target=\"_parent\"><img src=\"https://colab.research.google.com/assets/colab-badge.svg\" alt=\"Open In Colab\"/></a>"
      ]
    },
    {
      "cell_type": "markdown",
      "metadata": {
        "id": "RlExfg85fQTr"
      },
      "source": [
        "#Assignment 1"
      ]
    },
    {
      "cell_type": "code",
      "metadata": {
        "id": "M_mSRJDa3ZRY"
      },
      "source": [
        ""
      ],
      "execution_count": null,
      "outputs": []
    },
    {
      "cell_type": "markdown",
      "metadata": {
        "id": "ouqy7p1RfXx-"
      },
      "source": [
        "### 1 Calculator"
      ]
    },
    {
      "cell_type": "code",
      "metadata": {
        "id": "tXffLO70fDNS"
      },
      "source": [
        "###############################\r\n",
        "# Simple calculator program #\r\n",
        "###############################\r\n",
        "\r\n",
        "## not sure about time complexity with this\r\n",
        "# it could be possible to simplify and streamline code\r\n",
        "\r\n",
        "\r\n",
        "import math #used for natural log\r\n",
        "\r\n",
        "#adds two floats\r\n",
        "def summation(number_1):\r\n",
        "  number_2 = input(\"Please enter a second number: \")\r\n",
        "  while contains_number(number_2) == False: \r\n",
        "    print(\"A number was not entered\")\r\n",
        "    number_2 = input(\"Please enter a second number: \")\r\n",
        "  summ = float(number_1) + float(number_2)\r\n",
        "  print(\"{} + {} = %.3f\" .format(number_1, number_2)% summ)\r\n",
        "\r\n",
        "#subtracts two floats\r\n",
        "def subtraction(number_1):\r\n",
        "  number_2 = input(\"Please enter a second number: \")\r\n",
        "  while contains_number(number_2) == False:\r\n",
        "    print(\"A number was not entered\")\r\n",
        "    number_2 = input(\"Please enter a second number: \")\r\n",
        "  sub = float(number_1) - float(number_2)\r\n",
        "  print(\"{} - {} = %.3f\" .format(number_1, number_2)% sub)\r\n",
        "\r\n",
        "#multiplies two floats\r\n",
        "def multiplication(number_1):\r\n",
        "  number_2 = input(\"Please enter a second number: \")\r\n",
        "  while contains_number(number_2) == False:\r\n",
        "    print(\"A number was not entered\")\r\n",
        "    number_2 = input(\"Please enter a second number: \")\r\n",
        "  factor = float(number_1) * float(number_2)\r\n",
        "  print(\"{} * {} = %.3f\" .format(number_1, number_2)% factor)\r\n",
        "\r\n",
        "# divides two floats\r\n",
        "def divison(number_1):\r\n",
        "  number_2 = input(\"Please enter a second number: \")\r\n",
        "  while contains_number(number_2) == False:\r\n",
        "    print(\"A number was not entered\")\r\n",
        "    number_2 = input(\"Please enter a second number: \")\r\n",
        "  quotient = float(number_1) / float(number_2)\r\n",
        "  pprint(\"{} / {} = %.3f\" .format(number_1, number_2)% quotient)\r\n",
        "\r\n",
        "#finds the modulus of twio floats\r\n",
        "def modulus(number_1):\r\n",
        "  number_2 = input(\"Please enter a second number: \")\r\n",
        "  while contains_number(number_2) == False:\r\n",
        "    print(\"A number was not entered\")\r\n",
        "    number_2 = input(\"Please enter a second number: \")\r\n",
        "  mod = float(number_1) % float(number_2)\r\n",
        "  print(\"{}mod({}) = %.3f\" .format(number_1, number_2)% mod)\r\n",
        "\r\n",
        "#raises one float to the power of the 2nd float\r\n",
        "def power(number_1):\r\n",
        "  number_2 = input(\"Please enter a second number: \")\r\n",
        "  \r\n",
        "  while contains_number(number_2) == False:\r\n",
        "    print(\"A number was not entered\")\r\n",
        "    number_2 = input(\"Please enter a second number: \")\r\n",
        "  pow = float(number_1) ** float(number_2)\r\n",
        "  print(\"{}^{} = %.3f\" .format(number_1, number_2)% pow)\r\n",
        "\r\n",
        "# raises euler's number to the power of a float\r\n",
        "def exponential(number_1):\r\n",
        "  exp = 2.71828 ** float(number_1)\r\n",
        "  print(\"e^{} = %.3f\" .format(number_1)% exp)\r\n",
        "\r\n",
        "#Finds the natural log of a float\r\n",
        "def natural_log(number_1):\r\n",
        "  if float(number_1)  < 1:\r\n",
        "    print(\"Number is outside domain of natural log\")\r\n",
        "    return\r\n",
        "  ln = math.log(float(number_1))\r\n",
        "  print(\"ln({}) = %.3f\" .format(number_1)% ln)\r\n",
        "\r\n",
        "#finds the absolute value of a float\r\n",
        "def absolute_value(number_1):\r\n",
        "  abv = abs(float(number_1))\r\n",
        "  print(\"|{}| = %.3f\" .format(number_1)% abv)\r\n",
        "\r\n",
        "#boolean statment to ensure no letters are entered into a str\r\n",
        "#will return false if the str contains any letters\r\n",
        "def contains_number(test):\r\n",
        "  try:\r\n",
        "    float(test)\r\n",
        "    return True\r\n",
        "  except ValueError:\r\n",
        "    return False\r\n",
        "\r\n",
        "#function for the selection of desired mathmatical function\r\n",
        "def selection():\r\n",
        "  \r\n",
        "  print(\"Please enter a number for a function:\\n\")\r\n",
        "  print(\"1. Summation\\n2. Subtraction\\n3. Multiplication\\n4. Divison\\n5. Modulus\")\r\n",
        "  print(\"6. Power\\n7. Exponential\\n8. Natural Log\\n9. Absolute Value\\n\")\r\n",
        "  print(\"or press x to exit\")\r\n",
        "  choice = input()\r\n",
        "  if choice == 'x' or choice == 'X': #need because boolean statment will cause issue\r\n",
        "    return choice\r\n",
        "  while contains_number(choice) == False or float(choice) < 1 or float(choice) > 9:\r\n",
        "    print(\"Incorrect input\")\r\n",
        "    print(\"Please enter a number for a function:\\n\")\r\n",
        "    print(\"1. Summation\\n2. Subtraction\\n3. Multiplication\\n4. Divison\\n5. Modulus\\n\")\r\n",
        "    print(\"6. Power\\n7. Exponential\\n8. Natural Log\\n9. Absolute Value\")\r\n",
        "    print(\"or press x to exit\")\r\n",
        "    choice = input()\r\n",
        "  \r\n",
        "  return choice\r\n",
        "\r\n",
        "  \r\n",
        "  \r\n",
        "\r\n",
        "print(\"This is a simple calculator program\")\r\n",
        "while True:\r\n",
        "\r\n",
        "  choice = selection()\r\n",
        "\r\n",
        "  if choice == 'x' or choice == 'X': #put this here to prevent the need to input a number\r\n",
        "    break\r\n",
        "\r\n",
        "  number_1 = input(\"Please Enter a number: \")\r\n",
        "\r\n",
        "  while contains_number(number_1) == False:\r\n",
        "    print(\"A number was not entered\")\r\n",
        "    number_1 = input(\"Please enter a number: \")\r\n",
        "\r\n",
        "  if choice == '1':\r\n",
        "    summation(number_1)\r\n",
        "  elif choice == '2':\r\n",
        "    subtraction(number_1)\r\n",
        "  elif choice == '3':\r\n",
        "    multiplication(number_1)\r\n",
        "  elif choice == '4':\r\n",
        "    divison(number_1)\r\n",
        "  elif choice == '5':\r\n",
        "    modulus(number_1)\r\n",
        "  elif choice == '6':\r\n",
        "    power(number_1)\r\n",
        "  elif choice == '7':\r\n",
        "    exponential(number_1)\r\n",
        "  elif choice == '8':\r\n",
        "    natural_log(number_1)\r\n",
        "  elif choice == '9':\r\n",
        "    absolute_value(number_1)\r\n",
        "  \r\n",
        "  #print(\"It should not get here\")\r\n",
        "  \r\n",
        "print(\"Thank you for using this program\")\r\n",
        "\r\n",
        "  "
      ],
      "execution_count": null,
      "outputs": []
    },
    {
      "cell_type": "markdown",
      "metadata": {
        "id": "0rQ4CkZ04Mdy"
      },
      "source": [
        "#Threshold Classifier"
      ]
    },
    {
      "cell_type": "code",
      "metadata": {
        "colab": {
          "base_uri": "https://localhost:8080/",
          "height": 794
        },
        "id": "izvwkA7n4YLe",
        "outputId": "41c1b4a0-a122-46f4-addc-454e2df1dff3"
      },
      "source": [
        "import numpy as np\r\n",
        "\r\n",
        "class points:\r\n",
        "  def __init__(self,x,y):\r\n",
        "    self.x = x\r\n",
        "    self.y = y\r\n",
        "\r\n",
        "c1 = points([2,3,2],[2,2,3])\r\n",
        "c2 = points([1,1,2],[2,1,1])\r\n",
        "quit = 0\r\n",
        "\r\n",
        "bestAccuracy = 0\r\n",
        "\r\n",
        "from matplotlib import pyplot as plt\r\n",
        "while (quit != 'x'):\r\n",
        "  plt.figure()\r\n",
        "  plt.plot(c1.x,c1.y, 'r*', c2.x,c2.y, 'b^' )\r\n",
        "  plt.legend(['c1', 'c2'])\r\n",
        "  plt.xlabel('x attribute')\r\n",
        "  plt.ylabel('y attribute')\r\n",
        "  plt.title('Threshold Classifier problem')\r\n",
        "\r\n",
        "  count = float(0)\r\n",
        "  check = False\r\n",
        "  check2 = False\r\n",
        "\r\n",
        "  quit = input(\"Add data to the plot?\\nAny key will continue, press x to quit: \")\r\n",
        "\r\n",
        "  if quit == 'x':\r\n",
        "    break\r\n",
        "  while check == False: # i could put this in a function if there is time\r\n",
        "    try:\r\n",
        "      thx = float(input(\"Enter the x axis threshold: \"))\r\n",
        "      check = True\r\n",
        "    except ValueError:\r\n",
        "      check = False\r\n",
        "      continue\r\n",
        "  while check2 == False:\r\n",
        "    try:\r\n",
        "      thy = float(input(\"Enter the y axis threshold: \"))\r\n",
        "      check2 = True\r\n",
        "    except ValueError:\r\n",
        "      check2 = False\r\n",
        "      continue\r\n",
        "\r\n",
        "  threshold = points([thx],[thy])\r\n",
        "\r\n",
        "  for i in range(len(c1.x)):\r\n",
        "    if c1.x[i] >= threshold.x[i*0] and c1.y[i] >= threshold.y[i*0]:  # index for threshold must stay zero, but has to be seen as a list\r\n",
        "      count = count + 1\r\n",
        "    if c2.x[i] <= threshold.x[i*0] and c2.y[i] <= threshold.y[i*0]:\r\n",
        "      count = count + 1\r\n",
        "\r\n",
        "  #print(count)\r\n",
        "  accuracy = (count/6)*100\r\n",
        "  print(\"accuracy is %.2f \" % accuracy)\r\n",
        "\r\n",
        "  if accuracy > bestAccuracy:\r\n",
        "    bestAccuracy = accuracy\r\n",
        "    best_xth = thx\r\n",
        "    best_yth = thy\r\n",
        "\r\n",
        "\r\n",
        "  new_x = float(input(\"Enter a new X point: \"))\r\n",
        "  new_y = float(input(\"Enter a new Y point: \"))\r\n",
        "\r\n",
        "  plt.plot(new_x, new_y, 's')\r\n",
        "\r\n",
        "  if new_x < thx and new_y < thy:\r\n",
        "    print('The new point is classified as c2 based on the entered threshold\\n')\r\n",
        "  else:\r\n",
        "    print('The new point is classifeied as c1 based on the enterd threshold\\n')\r\n",
        "\r\n",
        "print(\"\\nThe most accuracte plot was %.2f accuracy\\n\" % accuracy)\r\n",
        "print(\"With the thresholds at x = {} and y = {}\"  .format(best_xth ,  best_yth))\r\n"
      ],
      "execution_count": 41,
      "outputs": [
        {
          "output_type": "stream",
          "text": [
            "Add data to the plot?\n",
            "Any key will continue, press x to quit: fd\n",
            "Enter the x axis threshold: 2\n",
            "Enter the y axis threshold: 2\n",
            "accuracy is 100.00 \n",
            "Enter a new X point: 2\n",
            "Enter a new Y point: 2\n",
            "c1\n",
            "Add data to the plot?\n",
            "Any key will continue, press x to quit: x\n",
            "The most accuracte plot was 100.00 accuracy\n",
            "\n",
            "With the thresholds at x = 2.0 and y = 2.0\n"
          ],
          "name": "stdout"
        },
        {
          "output_type": "display_data",
          "data": {
            "image/png": "[encoded data removed]",
            "text/plain": [
              "<Figure size 432x288 with 1 Axes>"
            ]
          },
          "metadata": {
            "tags": [],
            "needs_background": "light"
          }
        },
        {
          "output_type": "display_data",
          "data": {
            "image/png": "[encoded data removed]",
            "text/plain": [
              "<Figure size 432x288 with 1 Axes>"
            ]
          },
          "metadata": {
            "tags": [],
            "needs_background": "light"
          }
        }
      ]
    }
  ]
}